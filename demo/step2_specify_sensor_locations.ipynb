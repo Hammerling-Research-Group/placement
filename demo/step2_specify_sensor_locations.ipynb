{
 "cells": [
  {
   "cell_type": "markdown",
   "id": "98dde759-e0ed-4139-bff9-05f47bb29147",
   "metadata": {},
   "source": [
    "# Step 2. Specify Possible Sensor Locations\n",
    "\n",
    "In this step, we first use regular grids across the site. We then filter out all locations that are occupied by equipment groups on the site. We also specify locations along fence line, which can be used to determine optimal fence line sensor placement."
   ]
  },
  {
   "cell_type": "code",
   "execution_count": 19,
   "id": "bc8b1c5c-d9e5-4ad8-ad93-91c7195faac0",
   "metadata": {},
   "outputs": [],
   "source": [
    "import numpy as np\n",
    "import pandas as pd\n",
    "import matplotlib.pyplot as plt\n",
    "from matplotlib.patches import Polygon\n",
    "from matplotlib.path import Path"
   ]
  },
  {
   "cell_type": "code",
   "execution_count": 20,
   "id": "a1f70d03-29b5-43fb-94f0-631cbc3e8d9f",
   "metadata": {},
   "outputs": [],
   "source": [
    "# specify dirs\n",
    "data_dir = './input_data/'\n",
    "save_dir = './output_data/'"
   ]
  },
  {
   "cell_type": "code",
   "execution_count": 21,
   "id": "ab55eaa4-c140-4f66-b7c0-dbae21a6fc85",
   "metadata": {},
   "outputs": [],
   "source": [
    "# read in data\n",
    "df_source_locs = pd.read_csv(data_dir + 'source_locations.csv')  # locations for all potential sources\n",
    "df_domain = pd.read_csv(data_dir + 'domain.csv') # domain boundaries of the site\n",
    "df_equip_vertices = pd.read_csv(data_dir + 'equipment_vertices.csv') # vertex locations for all equipment groups"
   ]
  },
  {
   "cell_type": "markdown",
   "id": "e26dfdb7-ba61-49a5-8802-d480ba5ebbe3",
   "metadata": {},
   "source": [
    "## 2.1 Load in geometric information of the site"
   ]
  },
  {
   "cell_type": "code",
   "execution_count": 22,
   "id": "6e361817-1948-47b7-8be1-adfeb69a92c2",
   "metadata": {},
   "outputs": [],
   "source": [
    "# domain bounds\n",
    "x_min, x_max, y_min, y_max, z_min, z_max, dx, dy, dz = df_domain.iloc[0]\n",
    "\n",
    "# equipment polygons\n",
    "polygons = []\n",
    "for equip_name, group in df_equip_vertices.groupby('EquipName'):\n",
    "    vertices = []\n",
    "    for _, row in group.iterrows():\n",
    "        vertices.append([row['Vertex_x.m'], row['Vertex_y.m']])\n",
    "    polygons.append(Polygon(vertices, closed=True, color='lightgray'))"
   ]
  },
  {
   "cell_type": "markdown",
   "id": "a1101bcd-35a1-422d-9ef6-f518e5c312c7",
   "metadata": {},
   "source": [
    "## 2.2 Use regular grids for the entire site"
   ]
  },
  {
   "cell_type": "code",
   "execution_count": 23,
   "id": "9fbfdb1d-aa12-4e29-8ea0-fa78596984a4",
   "metadata": {},
   "outputs": [],
   "source": [
    "# set grids \n",
    "nx = int((x_max - x_min) / dx) + 1\n",
    "ny = int((y_max - y_min) / dx) + 1\n",
    "nz = int((z_max - z_min) / dz) + 1\n",
    "xs = np.linspace(x_min, x_max, nx)\n",
    "ys = np.linspace(y_min, y_max, ny)\n",
    "zs = np.linspace(z_min, z_max, nz)\n",
    "X, Y, Z = np.meshgrid(xs, ys, zs)  \n",
    "grid_xs = X.ravel()\n",
    "grid_ys = Y.ravel()\n",
    "grid_zs = Z.ravel()\n",
    "grid_ids = [f\"{x}-{y}-{z}\" for y in range(ny) for x in range(nx) for z in range(nz)]  # refer to np.meshgrid for the order\n",
    "df_grid_locs = pd.DataFrame({'loc_index': range(len(grid_ids)),\n",
    "                             'grid_id': grid_ids,\n",
    "                             'x': grid_xs,\n",
    "                             'y': grid_ys,\n",
    "                             'z': grid_zs})\n",
    "df_grid_locs.to_csv(save_dir + 'grid_locations.csv', index=False)"
   ]
  },
  {
   "cell_type": "markdown",
   "id": "5eea60eb-f741-41f8-b55c-5c5940ad275b",
   "metadata": {},
   "source": [
    "## 2.3 Filter invalid locaitons which are occupied by equipment groups"
   ]
  },
  {
   "cell_type": "code",
   "execution_count": 24,
   "id": "1f89a588-3f9d-44e7-a312-d9f0ca63cd0a",
   "metadata": {},
   "outputs": [],
   "source": [
    "# set valid sensor locations by filtering out equipment occupied locaitons\n",
    "def is_point_inside_polygon(test_point, polygon):\n",
    "    '''\n",
    "    Check if the given point 'test_point' falls inside the \n",
    "    given polygon 'polygon'\n",
    "    Returns True if 'test_point' is inside 'polygon'.\n",
    "    '''\n",
    "    return Path(polygon.get_xy()).contains_point(test_point)\n",
    "\n",
    "\n",
    "dropped_rows = []\n",
    "for index, row in df_grid_locs.iterrows(): # loop for each grid point\n",
    "    loc_index, x, y = row[['loc_index', 'x', 'y']]\n",
    "    test_point = [x, y]\n",
    "    if any([is_point_inside_polygon(test_point, polygon) for polygon in polygons]):\n",
    "        dropped_rows.append(loc_index)\n",
    "df_valid_sensor_locs = df_grid_locs.drop(dropped_rows)\n",
    "df_valid_sensor_locs.reset_index(drop=True, inplace=True)\n",
    "df_valid_sensor_locs.to_csv(save_dir + 'valid_sensor_locations.csv', index=False)"
   ]
  },
  {
   "cell_type": "markdown",
   "id": "9e4e0700-0584-4953-b04f-4ee748cf1532",
   "metadata": {},
   "source": [
    "## 2.4 Set possible sensor locations on fence line"
   ]
  },
  {
   "cell_type": "code",
   "execution_count": 25,
   "id": "fc286116-1432-4bb7-8a6a-12e569f06e01",
   "metadata": {},
   "outputs": [],
   "source": [
    "# set possible fenceline sensor loations\n",
    "x_buffer, y_buffer = (2, 2) # [m] the buffers to define fenceline\n",
    "dropped_rows = []\n",
    "for index, row in df_grid_locs.iterrows():\n",
    "    x = int(row['x'])\n",
    "    y = int(row['y'])\n",
    "    if (x_min + x_buffer < x < x_max-x_buffer) and (y_min + y_buffer < y < y_max-y_buffer):\n",
    "        dropped_rows.append(index)\n",
    "       \n",
    "df_fenceline_sensor_locs = df_grid_locs.drop(dropped_rows)\n",
    "df_fenceline_sensor_locs.reset_index(drop=True, inplace=True)\n",
    "df_fenceline_sensor_locs.to_csv(save_dir + 'fenceline_sensor_locations.csv', index=False)"
   ]
  },
  {
   "cell_type": "markdown",
   "id": "c564963b-d732-46a6-9990-92535caae27f",
   "metadata": {},
   "source": [
    "## 2.5 Visualize possible sensor locations"
   ]
  },
  {
   "cell_type": "code",
   "execution_count": 26,
   "id": "9d7a0e39-c55b-4d6d-a46a-e3fb933cb989",
   "metadata": {},
   "outputs": [
    {
     "data": {
      "image/png": "[encoded data removed]",
      "text/plain": [
       "<Figure size 800x800 with 1 Axes>"
      ]
     },
     "metadata": {},
     "output_type": "display_data"
    }
   ],
   "source": [
    "# visualization\n",
    "fig, ax = plt.subplots(figsize=(8, 8))\n",
    "ax.set_aspect('equal', adjustable='box')\n",
    "ax.set_xlim([x_min, x_max])\n",
    "ax.set_ylim([y_min, y_max])\n",
    "ax.set_xlabel('x [m]')\n",
    "ax.set_ylabel('y [m]')\n",
    "\n",
    "# Plot valid sensor locations\n",
    "valid_xs = df_valid_sensor_locs['x'].to_numpy()\n",
    "valid_ys = df_valid_sensor_locs['y'].to_numpy()\n",
    "ax.scatter(valid_xs, valid_ys, color='blue', s=0.1)\n",
    "\n",
    "# Plot fenceline sensor locations\n",
    "fenceline_xs = df_fenceline_sensor_locs['x'].to_numpy()\n",
    "fenceline_ys = df_fenceline_sensor_locs['y'].to_numpy()\n",
    "ax.scatter(fenceline_xs, fenceline_ys, color='orange', s=1)\n",
    "\n",
    "# Plot source locations\n",
    "for i, row in df_source_locs.iterrows():\n",
    "    source_name = row['SourceName']\n",
    "    x, y = row[['x.m', 'y.m']]\n",
    "    ax.scatter(x, y, color='red')\n",
    "    ax.text(x, y - 1 , source_name, \n",
    "            color='red', va='top', ha='center')    \n"
   ]
  }
 ],
 "metadata": {
  "kernelspec": {
   "display_name": "Python [conda env:gp]",
   "language": "python",
   "name": "conda-env-gp-py"
  },
  "language_info": {
   "codemirror_mode": {
    "name": "ipython",
    "version": 3
   },
   "file_extension": ".py",
   "mimetype": "text/x-python",
   "name": "python",
   "nbconvert_exporter": "python",
   "pygments_lexer": "ipython3",
   "version": "3.12.3"
  }
 },
 "nbformat": 4,
 "nbformat_minor": 5
}
